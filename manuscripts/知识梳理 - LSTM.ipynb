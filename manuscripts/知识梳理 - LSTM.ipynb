{
 "cells": [
  {
   "cell_type": "markdown",
   "metadata": {},
   "source": [
    "# 知识梳理 - LSTM\n",
    "---\n",
    "着重与代码实现和案例实现\n",
    "\n",
    "内容概要\n",
    "1. LSTM核心思想\n",
    "2. LSTM与RNN的对比\n",
    "3. TensorFlow实现LSTM（先重点讲解实现代码的API，尽可能让读者不查tf文档，读懂代码）\n",
    "4. 列举几个实际案例\n"
   ]
  },
  {
   "cell_type": "markdown",
   "metadata": {},
   "source": [
    "## 符号说明\n",
    "---\n",
    "|符号|含义|\n",
    "|---:|:---|\n",
    "|||\n"
   ]
  },
  {
   "cell_type": "markdown",
   "metadata": {},
   "source": [
    "### LSTM 核心思想\n",
    "---\n",
    "LSTM解决了RNN中存在的长期依赖问题。\n",
    "\n",
    "\n"
   ]
  },
  {
   "cell_type": "markdown",
   "metadata": {},
   "source": [
    "## 参考资料\n",
    "---\n",
    "* [Understanding LSTM Networks](http://colah.github.io/posts/2015-08-Understanding-LSTMs/)  [（中文版）](http://blog.csdn.net/ycheng_sjtu/article/details/48792467)\n",
    "* [LSTM与GRU的一些比较 - 论文笔记](http://blog.csdn.net/tsb831211/article/details/52136489)\n",
    "* [使用MNIST数据集，在TensorFlow上实现基础LSTM网络](https://www.jiqizhixin.com/articles/2017-09-29-7)\n",
    "* [How to Seed State for LSTMs for Time Series Forecasting in Python](https://machinelearningmastery.com/seed-state-lstms-time-series-forecasting-python/)\n",
    "* [使用Tensorflow实现，LSTM的时间序列预测，预测正弦函数](http://www.cnblogs.com/weizhen/p/6885445.html)\n",
    "* [A Critical Review of Recurrent Neural Networks for Sequence Learning](https://arxiv.org/abs/1506.00019)"
   ]
  }
 ],
 "metadata": {
  "kernelspec": {
   "display_name": "Python 3",
   "language": "python",
   "name": "python3"
  },
  "language_info": {
   "codemirror_mode": {
    "name": "ipython",
    "version": 3
   },
   "file_extension": ".py",
   "mimetype": "text/x-python",
   "name": "python",
   "nbconvert_exporter": "python",
   "pygments_lexer": "ipython3",
   "version": "3.6.1"
  }
 },
 "nbformat": 4,
 "nbformat_minor": 2
}
