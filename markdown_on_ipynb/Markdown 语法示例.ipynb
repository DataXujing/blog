{
 "cells": [
  {
   "cell_type": "markdown",
   "metadata": {},
   "source": [
    "# Markdown 语法示例\n",
    "---\n",
    "目录\n"
   ]
  },
  {
   "cell_type": "markdown",
   "metadata": {},
   "source": [
    "---\n",
    "### 调整字体颜色\n",
    "<font color='green'>\n",
    "**What you need to remember**\n",
    "---\n"
   ]
  },
  {
   "cell_type": "markdown",
   "metadata": {},
   "source": [
    "---\n",
    "### 添加图片\n",
    "<img src=\"images\\k-means_1.png\" style=\"width:500px;height:100;\">"
   ]
  },
  {
   "cell_type": "markdown",
   "metadata": {},
   "source": [
    "## 添加表格\n",
    "---\n",
    "\n",
    "| 符号      |    含义 | \n",
    "| :--------: | :--------| \n",
    "| ![][f01]  | 截断距离 |\n",
    "| ![][f02]  | 点$i$与点$j$之间的距离|\n",
    "| ![][f03] |  局部密度 |\n",
    "| ![][f04] |  与其他具有更高局部密度点集的最小距离 |\n",
    "\n",
    "\n",
    "[f01]: http://latex.codecogs.com/svg.latex?d_{c}\n",
    "[f02]: http://latex.codecogs.com/svg.latex?d_{ij}\n",
    "[f03]: http://latex.codecogs.com/svg.latex?\\rho_{i}\n",
    "[f04]: http://latex.codecogs.com/svg.latex?\\delta_{i}"
   ]
  }
 ],
 "metadata": {
  "kernelspec": {
   "display_name": "Python 3",
   "language": "python",
   "name": "python3"
  },
  "language_info": {
   "codemirror_mode": {
    "name": "ipython",
    "version": 3
   },
   "file_extension": ".py",
   "mimetype": "text/x-python",
   "name": "python",
   "nbconvert_exporter": "python",
   "pygments_lexer": "ipython3",
   "version": "3.6.1"
  }
 },
 "nbformat": 4,
 "nbformat_minor": 2
}
