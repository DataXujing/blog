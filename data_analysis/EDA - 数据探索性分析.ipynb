{
 "cells": [
  {
   "cell_type": "markdown",
   "metadata": {},
   "source": [
    "# EDA - 数据探索性分析\n",
    "---\n",
    "\n",
    "\n"
   ]
  },
  {
   "cell_type": "markdown",
   "metadata": {},
   "source": [
    "### box-plot (箱线图)\n",
    "---\n",
    "\n",
    "箱线图（Boxplot）利用数据中的五个统计量：最小非异常值、第一四分位数Q1、中位数、第三四分位数Q3与最大非异常值来描述数据的一种方法，可以粗略地看出数据是否具有有对称性，离散程度等信息。典型的箱线图如下：\n",
    "\n",
    "<img src=\"images/box-plot.png\" style=\"width:400px\">\n",
    "<caption><center>**典型箱线图**</center></caption>\n",
    "\n",
    "<img src=\"images/box-plot1.png\" style=\"width:400px\">\n",
    "<caption><center>**箱子结构**</center></caption>\n",
    "\n",
    "\n",
    "**四分位数（Quartile)**\n",
    "\n",
    "根据数列等分的形式不同，常用的分位数有中位数、四分位数、十分位数、百分位数等。箱线图中使用四分位数进行统计。\n",
    "\n",
    "四分位数的定义：将数据划分为4个部分，每一个部分大约包含1/4的数据项，这种划分的临界点称为四分位数。\n",
    "\n",
    "假设数据序列有n个数据，那么第一四分位数（Q1）、第二四分位数（Q2）、第三四分位数（Q3）的计算公式如下：\n",
    "$$Q1=\\frac{n+1}{4}$$\n",
    "$$Q2=\\frac{2(n+1)}{4}$$\n",
    "$$Q3=\\frac{3(n+1)}{4}$$\n",
    "\n",
    "注：计算四分位数之前，需要将序列按大小排序！\n",
    "\n",
    "**四分位距（Quartile Deviation）**\n",
    "\n",
    "四分位距是指将数据序列按大小顺序排列后，将此数列分成四等份，所得第三个四分位上的值与第一个四分位上的值的差。\n",
    "$$IQR = Q3 - Q1$$\n",
    "\n",
    "**内限**\n",
    "\n",
    "内限（又称“上下限”）是数据序列中正常值的范围，其计算方法是[Q1－1.5IQR, Q3+1.5IQR]\n",
    "\n",
    "\n",
    "#### 绘制箱线图的步骤\n",
    "---\n",
    "step 1. 将数据序列按大小排序，计算序列的四分位数和中位数；\n",
    "\n",
    "step 2. 计算四分位距，以及上下限（内限），将数据序列中与上下限最接近的数据作为上下边缘；\n",
    "\n",
    "step 3. 画数轴，由中位数、Q1、Q3以及上下边缘，作图；\n",
    "\n",
    "step 4. 将数据点在图中表示。\n",
    "\n",
    "\n",
    "\n",
    "#### 箱线图的作用\n",
    "---\n",
    "1. 识别数据异常值\n",
    ">在箱线图中，异常值被定义为小于Q1－1.5IQR或大于Q3+1.5IQR的值。使用箱线图进行异常值识别的优势是：1）依靠实际数据，不需要事先假定数据服从特定的分布形式，没有对数据作任何限制性要求；2）四分位数具有一定的耐抗性，多达25%的数据可以变得任意远而不会很大地扰动四分位数，所以异常值不能对这个标准施加影响。\n",
    "\n",
    "2. 比较几批数据的形状\n",
    ">同一数轴上，几批数据的箱线图并行排列，几批数据的中位数、尾长、异常值、分布区间等形状信息便一目了然。\n",
    "\n",
    "\n",
    "#### 使用python绘制箱线图\n",
    "---"
   ]
  },
  {
   "cell_type": "code",
   "execution_count": null,
   "metadata": {
    "collapsed": true
   },
   "outputs": [],
   "source": []
  }
 ],
 "metadata": {
  "kernelspec": {
   "display_name": "Python 3",
   "language": "python",
   "name": "python3"
  },
  "language_info": {
   "codemirror_mode": {
    "name": "ipython",
    "version": 3
   },
   "file_extension": ".py",
   "mimetype": "text/x-python",
   "name": "python",
   "nbconvert_exporter": "python",
   "pygments_lexer": "ipython3",
   "version": "3.6.1"
  }
 },
 "nbformat": 4,
 "nbformat_minor": 2
}
