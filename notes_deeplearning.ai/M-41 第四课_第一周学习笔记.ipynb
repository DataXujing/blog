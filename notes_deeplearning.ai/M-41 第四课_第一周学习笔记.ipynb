{
 "cells": [
  {
   "cell_type": "markdown",
   "metadata": {},
   "source": [
    "# C4W1 - 卷积神经网络\n",
    "---\n",
    "\n",
    "\n",
    "当图片很大时，比如 $1000*1000$ 的图像，使用全连接层就行不通了。\n",
    "\n",
    "核 = 过滤器\n",
    "\n",
    "\n",
    "垂直边缘检测器\n",
    "\n",
    "卷积运算理解与实现\n",
    "实现卷积运算：\n",
    "python: conv-forward\n",
    "tensorflow: tf.nn.conv2d\n",
    "keras: Conv2D\n",
    "\n",
    "\n",
    "\n",
    "\n",
    "卷积操作的两个问题：\n",
    "1. 卷积之后，图像变小\n",
    "2. 边缘仅被卷积一次，信息丢失\n",
    "\n",
    "padding convolutions\n",
    "用像素填充边缘\n",
    "p = (f-1)/2\n",
    "\n",
    "Valid and Same convolutions\n",
    "\n",
    "filter的大小f为什么通常是奇数？\n",
    "1. 方便padding操作\n",
    "2. f是奇数的filter有一个中心点，便于计算操作，指出filter位置\n",
    "\n",
    "---\n",
    "strided convolution -- 卷积步长\n",
    "\n",
    "---\n",
    "cross-correlation vs convolution\n",
    "\n",
    "convolution计算之前，需要将filter做一个镜像（水平和竖直方向），然后进行点乘求和\n",
    "cross-correlation计算，直接使用filter进行点乘求和；\n",
    "通常，在CNN中，使用convolution操作更多、更有效\n",
    "\n",
    "--\n",
    "\n",
    "\n"
   ]
  },
  {
   "cell_type": "markdown",
   "metadata": {},
   "source": [
    "## 立体卷积\n",
    "---\n",
    "\n",
    "filter和图像的channels要一致。\n",
    "\n",
    "## 单层CNN\n",
    "---\n"
   ]
  }
 ],
 "metadata": {
  "kernelspec": {
   "display_name": "Python 3",
   "language": "python",
   "name": "python3"
  },
  "language_info": {
   "codemirror_mode": {
    "name": "ipython",
    "version": 3
   },
   "file_extension": ".py",
   "mimetype": "text/x-python",
   "name": "python",
   "nbconvert_exporter": "python",
   "pygments_lexer": "ipython3",
   "version": "3.6.1"
  }
 },
 "nbformat": 4,
 "nbformat_minor": 2
}
