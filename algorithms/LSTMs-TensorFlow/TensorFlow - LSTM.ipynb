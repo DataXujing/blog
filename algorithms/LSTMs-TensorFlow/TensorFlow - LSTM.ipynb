{
 "cells": [
  {
   "cell_type": "markdown",
   "metadata": {},
   "source": [
    "# sample: TensorFlow - LSTM\n",
    "---\n",
    "Trains the model described in:\n",
    "(Zaremba, et. al.) Recurrent Neural Network Regularization\n",
    "http://arxiv.org/abs/1409.2329\n",
    "\n",
    "数据集下载：\n",
    "\n",
    "$ wget http://www.fit.vutbr.cz/~imikolov/rnnlm/simple-examples.tgz\n",
    "\n",
    "$ tar xvf simple-examples.tgz\n",
    "    \n"
   ]
  },
  {
   "cell_type": "code",
   "execution_count": 1,
   "metadata": {
    "collapsed": true
   },
   "outputs": [],
   "source": [
    "import inspect\n",
    "import time\n",
    "import numpy as np\n",
    "import tensorflow as tf\n",
    "# 导入自定义库\n",
    "import reader"
   ]
  },
  {
   "cell_type": "code",
   "execution_count": null,
   "metadata": {
    "collapsed": true
   },
   "outputs": [],
   "source": []
  }
 ],
 "metadata": {
  "kernelspec": {
   "display_name": "Python 3",
   "language": "python",
   "name": "python3"
  },
  "language_info": {
   "codemirror_mode": {
    "name": "ipython",
    "version": 3
   },
   "file_extension": ".py",
   "mimetype": "text/x-python",
   "name": "python",
   "nbconvert_exporter": "python",
   "pygments_lexer": "ipython3",
   "version": "3.6.1"
  }
 },
 "nbformat": 4,
 "nbformat_minor": 2
}
