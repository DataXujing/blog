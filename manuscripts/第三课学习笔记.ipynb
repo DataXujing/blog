{
 "cells": [
  {
   "cell_type": "markdown",
   "metadata": {},
   "source": [
    "# 第三课\n",
    "\n",
    "---"
   ]
  },
  {
   "cell_type": "markdown",
   "metadata": {},
   "source": [
    "## using single number evaluation metric\n",
    "---\n",
    "\n",
    "不要使用precision或者recall来评估性能，而是使用F1来评估性能。\n",
    "\n",
    "结合性能评估指标与运行时间。tradeoff accuracy and running time  ： cost = accuracy - 0.5 * running time"
   ]
  },
  {
   "cell_type": "markdown",
   "metadata": {},
   "source": [
    "## set up train/dev/test sets\n",
    "---\n",
    "数据集的划分，对开发效率会有很大的影响。train sets 和 test sets 必须来自同一分布。\n",
    "\n",
    "choose a dev set and test set to  reflect data you expect to get in the future and consider important to do well on.\n",
    "\n",
    "That way, you are putting the target where you actually want to hit.\n",
    "\n",
    "训练的目标体现在dev set 和 evaluation metric中。train set的设置会影响逼近目标的速度。\n",
    "\n",
    "传统的划分方法：70%/30% or 60%/20%/20%"
   ]
  },
  {
   "cell_type": "markdown",
   "metadata": {},
   "source": [
    "## error analysis\n",
    "---\n",
    "确定某一个努力的方向是否值得。\n",
    "分析训练集和测试集的数据分布是否一致。\n"
   ]
  },
  {
   "cell_type": "markdown",
   "metadata": {},
   "source": [
    "## incorrectly labeled examples\n",
    "---\n",
    "\n",
    "深度学习算法对随机误差的鲁棒性很好，但是对系统误差的鲁棒性很差。"
   ]
  },
  {
   "cell_type": "markdown",
   "metadata": {},
   "source": [
    "快速搭建第一个系统，并进行迭代。\n",
    "在不同的划分上进行训练并测试。\n",
    "\n"
   ]
  },
  {
   "cell_type": "markdown",
   "metadata": {},
   "source": [
    "## addressing data mismatch\n",
    "---\n"
   ]
  },
  {
   "cell_type": "markdown",
   "metadata": {},
   "source": [
    "## Transfer Learning\n",
    "----\n"
   ]
  },
  {
   "cell_type": "markdown",
   "metadata": {},
   "source": [
    "## Multi-task learning\n",
    "---\n"
   ]
  }
 ],
 "metadata": {
  "kernelspec": {
   "display_name": "Python 3",
   "language": "python",
   "name": "python3"
  },
  "language_info": {
   "codemirror_mode": {
    "name": "ipython",
    "version": 3
   },
   "file_extension": ".py",
   "mimetype": "text/x-python",
   "name": "python",
   "nbconvert_exporter": "python",
   "pygments_lexer": "ipython3",
   "version": "3.6.1"
  }
 },
 "nbformat": 4,
 "nbformat_minor": 2
}
